{
 "nbformat": 4,
 "nbformat_minor": 2,
 "metadata": {
  "language_info": {
   "name": "python",
   "codemirror_mode": {
    "name": "ipython",
    "version": 3
   },
   "version": "3.6.8-final"
  },
  "orig_nbformat": 2,
  "file_extension": ".py",
  "mimetype": "text/x-python",
  "name": "python",
  "npconvert_exporter": "python",
  "pygments_lexer": "ipython3",
  "version": 3,
  "kernelspec": {
   "name": "python36864bitvenvvenvad14fe486b5c45149d0945bca7d34922",
   "display_name": "Python 3.6.8 64-bit ('venv': venv)"
  }
 },
 "cells": [
  {
   "cell_type": "markdown",
   "metadata": {},
   "source": [
    "# Date Validation by Province\n",
    "\n",
    "Checking that the date values in the dataset make sense according to the validation rules for the NRN."
   ]
  },
  {
   "cell_type": "code",
   "execution_count": 1,
   "metadata": {},
   "outputs": [],
   "source": [
    "%matplotlib inline\n",
    "# required modules\n",
    "import geopandas as gpd\n",
    "import matplotlib.pyplot as plt\n",
    "import pandas as pd\n",
    "from pathlib import Path\n",
    "from reporting import *"
   ]
  },
  {
   "cell_type": "code",
   "execution_count": 2,
   "metadata": {},
   "outputs": [],
   "source": [
    "# set up the arguments for the dataset\n",
    "data_dir = Path('../../nrn_data')"
   ]
  },
  {
   "cell_type": "markdown",
   "metadata": {},
   "source": [
    "Data all exists within a set of GeoPackage files, broken up by province. The exact path to those files is not really consistent between the provinces, so a convenience function was created to find them all and pull out the release version information."
   ]
  },
  {
   "cell_type": "code",
   "execution_count": 3,
   "metadata": {},
   "outputs": [
    {
     "output_type": "execute_result",
     "data": {
      "text/plain": "Ontario                      656621\nQuébec                       440398\nAlberta                      413349\nSaskatchewan                 291003\nBritish Columbia             263584\nNova Scotia                  111570\nManitoba                     110604\nNew Brunswick                 67930\nNewfoundland and Labrador     44484\nPrince Edward Island          18140\nNorthwest Territories          6793\nYukon Territory                6591\nNunavut                        4242\nName: datasetnam, dtype: int64"
     },
     "metadata": {},
     "execution_count": 3
    }
   ],
   "source": [
    "roadseg = load_all_roadseg(data_dir)\n",
    "roadseg['datasetnam'].value_counts()"
   ]
  },
  {
   "cell_type": "markdown",
   "metadata": {},
   "source": [
    "Dates in the data are inconsistently formatted. The rules for the dates allow anything from just the year, to year-month, to a full year-month-day. The data is always formatted as YYYYMMDD though, and when data is missing it is normalized to being the first month/day of whatever attribute is missing. This means checking the length of the data in the column lets us know how to fill it in to get a normalized format that can be converted to the date type."
   ]
  },
  {
   "cell_type": "code",
   "execution_count": 4,
   "metadata": {},
   "outputs": [],
   "source": [
    "# Quebec contains a single data error in Montreal. It isn't clear what the proper value is, so it is shifted to December.\n",
    "# https://geoegl.msp.gouv.qc.ca/igo2/apercu-qc/ shows this segment with a \"dateappr\" value of 20130115.\n",
    "roadseg['credate'] = roadseg['credate'].str.replace('20141401','20141201')\n",
    "\n",
    "# normalize the created and revised dates\n",
    "roadseg['credate_norm'] = roadseg['credate'].apply(lambda v: date_normalize(v))\n",
    "roadseg['revdate_norm'] = roadseg['revdate'].apply(lambda v: date_normalize(v))\n",
    "\n",
    "# convert the normalized dates to proper DateTime dtypes\n",
    "roadseg['created'] = pd.to_datetime(roadseg['credate_norm'], format=\"%Y%m%d\")\n",
    "roadseg['revised'] = pd.to_datetime(roadseg['revdate_norm'], format=\"%Y%m%d\")"
   ]
  },
  {
   "cell_type": "code",
   "execution_count": 7,
   "metadata": {},
   "outputs": [
    {
     "output_type": "execute_result",
     "data": {
      "text/plain": "False    2435309\ndtype: int64"
     },
     "metadata": {},
     "execution_count": 7
    }
   ],
   "source": [
    "# It would not make sense for a revised date to be before a created date, so check that.\n",
    "(roadseg['revised'] < roadseg['created']).value_counts()"
   ]
  },
  {
   "cell_type": "code",
   "execution_count": 5,
   "metadata": {},
   "outputs": [
    {
     "output_type": "execute_result",
     "data": {
      "text/plain": "     created    revised date_diff\n0 1999-01-01 2016-02-01 6240 days\n1 1999-01-01 2016-02-01 6240 days\n2 2011-07-01 2016-02-01 1676 days\n3 2011-07-01 2016-02-01 1676 days\n4 2001-01-01 2016-02-01 5509 days",
      "text/html": "<div>\n<style scoped>\n    .dataframe tbody tr th:only-of-type {\n        vertical-align: middle;\n    }\n\n    .dataframe tbody tr th {\n        vertical-align: top;\n    }\n\n    .dataframe thead th {\n        text-align: right;\n    }\n</style>\n<table border=\"1\" class=\"dataframe\">\n  <thead>\n    <tr style=\"text-align: right;\">\n      <th></th>\n      <th>created</th>\n      <th>revised</th>\n      <th>date_diff</th>\n    </tr>\n  </thead>\n  <tbody>\n    <tr>\n      <th>0</th>\n      <td>1999-01-01</td>\n      <td>2016-02-01</td>\n      <td>6240 days</td>\n    </tr>\n    <tr>\n      <th>1</th>\n      <td>1999-01-01</td>\n      <td>2016-02-01</td>\n      <td>6240 days</td>\n    </tr>\n    <tr>\n      <th>2</th>\n      <td>2011-07-01</td>\n      <td>2016-02-01</td>\n      <td>1676 days</td>\n    </tr>\n    <tr>\n      <th>3</th>\n      <td>2011-07-01</td>\n      <td>2016-02-01</td>\n      <td>1676 days</td>\n    </tr>\n    <tr>\n      <th>4</th>\n      <td>2001-01-01</td>\n      <td>2016-02-01</td>\n      <td>5509 days</td>\n    </tr>\n  </tbody>\n</table>\n</div>"
     },
     "metadata": {},
     "execution_count": 5
    }
   ],
   "source": [
    "# Calculate the differences between the created and revised dates so that they can be reported on.\n",
    "roadseg['date_diff'] = roadseg['revised'] - roadseg['created']\n",
    "roadseg[['created','revised','date_diff']].head()"
   ]
  },
  {
   "cell_type": "code",
   "execution_count": 6,
   "metadata": {},
   "outputs": [
    {
     "output_type": "execute_result",
     "data": {
      "text/plain": "                             min        max\ndatasetnam                                 \nAlberta                   0 days  5981 days\nBritish Columbia          0 days 13393 days\nManitoba                  0 days  4322 days\nNew Brunswick             1 days     1 days\nNewfoundland and Labrador 0 days  4202 days\nNorthwest Territories     0 days  4410 days\nNova Scotia               0 days 11331 days\nNunavut                   0 days 11052 days\nOntario                   0 days  5893 days\nPrince Edward Island      0 days  5113 days\nQuébec                    0 days 13180 days\nSaskatchewan              0 days  6696 days\nYukon Territory           0 days  5934 days",
      "text/html": "<div>\n<style scoped>\n    .dataframe tbody tr th:only-of-type {\n        vertical-align: middle;\n    }\n\n    .dataframe tbody tr th {\n        vertical-align: top;\n    }\n\n    .dataframe thead th {\n        text-align: right;\n    }\n</style>\n<table border=\"1\" class=\"dataframe\">\n  <thead>\n    <tr style=\"text-align: right;\">\n      <th></th>\n      <th>min</th>\n      <th>max</th>\n    </tr>\n    <tr>\n      <th>datasetnam</th>\n      <th></th>\n      <th></th>\n    </tr>\n  </thead>\n  <tbody>\n    <tr>\n      <th>Alberta</th>\n      <td>0 days</td>\n      <td>5981 days</td>\n    </tr>\n    <tr>\n      <th>British Columbia</th>\n      <td>0 days</td>\n      <td>13393 days</td>\n    </tr>\n    <tr>\n      <th>Manitoba</th>\n      <td>0 days</td>\n      <td>4322 days</td>\n    </tr>\n    <tr>\n      <th>New Brunswick</th>\n      <td>1 days</td>\n      <td>1 days</td>\n    </tr>\n    <tr>\n      <th>Newfoundland and Labrador</th>\n      <td>0 days</td>\n      <td>4202 days</td>\n    </tr>\n    <tr>\n      <th>Northwest Territories</th>\n      <td>0 days</td>\n      <td>4410 days</td>\n    </tr>\n    <tr>\n      <th>Nova Scotia</th>\n      <td>0 days</td>\n      <td>11331 days</td>\n    </tr>\n    <tr>\n      <th>Nunavut</th>\n      <td>0 days</td>\n      <td>11052 days</td>\n    </tr>\n    <tr>\n      <th>Ontario</th>\n      <td>0 days</td>\n      <td>5893 days</td>\n    </tr>\n    <tr>\n      <th>Prince Edward Island</th>\n      <td>0 days</td>\n      <td>5113 days</td>\n    </tr>\n    <tr>\n      <th>Québec</th>\n      <td>0 days</td>\n      <td>13180 days</td>\n    </tr>\n    <tr>\n      <th>Saskatchewan</th>\n      <td>0 days</td>\n      <td>6696 days</td>\n    </tr>\n    <tr>\n      <th>Yukon Territory</th>\n      <td>0 days</td>\n      <td>5934 days</td>\n    </tr>\n  </tbody>\n</table>\n</div>"
     },
     "metadata": {},
     "execution_count": 6
    }
   ],
   "source": [
    "# Show the minimum and maximum number of days between the created and revised dates.\n",
    "roadseg.groupby('datasetnam')['date_diff'].agg([min, max])"
   ]
  },
  {
   "cell_type": "code",
   "execution_count": null,
   "metadata": {},
   "outputs": [],
   "source": []
  }
 ]
}